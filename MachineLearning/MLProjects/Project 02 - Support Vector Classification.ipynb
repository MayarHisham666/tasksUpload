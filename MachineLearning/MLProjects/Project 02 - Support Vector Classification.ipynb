{
 "cells": [
  {
   "cell_type": "markdown",
   "metadata": {},
   "source": [
    "# Project - Support-Vector Classification\n",
    "- Classify dogs"
   ]
  },
  {
   "cell_type": "markdown",
   "metadata": {},
   "source": [
    "### Classification task\n",
    "- 3 dog types and corresponding data\n",
    "\n",
    "<table>\n",
    "    <tr>\n",
    "        <td>Dobermann</td>\n",
    "        <td><img src=\"img/dobermann.jpg\" width=\"100\" align=\"left\"></td>\n",
    "    </tr>\n",
    "    <tr>\n",
    "        <td>German Shepherd</td>\n",
    "        <td><img src=\"img/german_shepherd.jpg\" width=\"100\" align=\"left\"></td>\n",
    "    </tr>\n",
    "    <tr>\n",
    "        <td>Rottweiler</td>\n",
    "        <td><img src=\"img/rottweiler.jpg\" width=\"100\" align=\"left\"></td>\n",
    "    </tr>\n",
    "</table>"
   ]
  },
  {
   "cell_type": "markdown",
   "metadata": {},
   "source": [
    "### Step 1: Import libraries"
   ]
  },
  {
   "cell_type": "code",
   "execution_count": 1,
   "metadata": {},
   "outputs": [],
   "source": [
    "import numpy as np\n",
    "import pandas as pd\n",
    "from sklearn.svm import SVC\n",
    "import matplotlib.pyplot as plt\n",
    "%matplotlib inline"
   ]
  },
  {
   "cell_type": "markdown",
   "metadata": {},
   "source": [
    "### Step 2: Read the data\n",
    "- Use Pandas [read_csv](https://pandas.pydata.org/pandas-docs/stable/reference/api/pandas.read_csv.html) method to read **files/data_02.csv**"
   ]
  },
  {
   "cell_type": "code",
   "execution_count": 2,
   "metadata": {},
   "outputs": [],
   "source": [
    "df=pd.read_csv('files/data_02.csv')"
   ]
  },
  {
   "cell_type": "code",
   "execution_count": 3,
   "metadata": {},
   "outputs": [
    {
     "data": {
      "text/html": [
       "<div>\n",
       "<style scoped>\n",
       "    .dataframe tbody tr th:only-of-type {\n",
       "        vertical-align: middle;\n",
       "    }\n",
       "\n",
       "    .dataframe tbody tr th {\n",
       "        vertical-align: top;\n",
       "    }\n",
       "\n",
       "    .dataframe thead th {\n",
       "        text-align: right;\n",
       "    }\n",
       "</style>\n",
       "<table border=\"1\" class=\"dataframe\">\n",
       "  <thead>\n",
       "    <tr style=\"text-align: right;\">\n",
       "      <th></th>\n",
       "      <th>Weight</th>\n",
       "      <th>Height</th>\n",
       "      <th>Class</th>\n",
       "    </tr>\n",
       "  </thead>\n",
       "  <tbody>\n",
       "    <tr>\n",
       "      <th>0</th>\n",
       "      <td>42.2</td>\n",
       "      <td>66</td>\n",
       "      <td>Dobermann</td>\n",
       "    </tr>\n",
       "    <tr>\n",
       "      <th>1</th>\n",
       "      <td>43.0</td>\n",
       "      <td>70</td>\n",
       "      <td>Dobermann</td>\n",
       "    </tr>\n",
       "    <tr>\n",
       "      <th>2</th>\n",
       "      <td>39.2</td>\n",
       "      <td>67</td>\n",
       "      <td>Dobermann</td>\n",
       "    </tr>\n",
       "    <tr>\n",
       "      <th>3</th>\n",
       "      <td>49.9</td>\n",
       "      <td>63</td>\n",
       "      <td>Rottweiler</td>\n",
       "    </tr>\n",
       "    <tr>\n",
       "      <th>4</th>\n",
       "      <td>39.5</td>\n",
       "      <td>65</td>\n",
       "      <td>German Shepherd</td>\n",
       "    </tr>\n",
       "    <tr>\n",
       "      <th>...</th>\n",
       "      <td>...</td>\n",
       "      <td>...</td>\n",
       "      <td>...</td>\n",
       "    </tr>\n",
       "    <tr>\n",
       "      <th>295</th>\n",
       "      <td>43.3</td>\n",
       "      <td>67</td>\n",
       "      <td>Dobermann</td>\n",
       "    </tr>\n",
       "    <tr>\n",
       "      <th>296</th>\n",
       "      <td>52.0</td>\n",
       "      <td>66</td>\n",
       "      <td>Rottweiler</td>\n",
       "    </tr>\n",
       "    <tr>\n",
       "      <th>297</th>\n",
       "      <td>32.1</td>\n",
       "      <td>61</td>\n",
       "      <td>German Shepherd</td>\n",
       "    </tr>\n",
       "    <tr>\n",
       "      <th>298</th>\n",
       "      <td>36.8</td>\n",
       "      <td>63</td>\n",
       "      <td>German Shepherd</td>\n",
       "    </tr>\n",
       "    <tr>\n",
       "      <th>299</th>\n",
       "      <td>57.0</td>\n",
       "      <td>67</td>\n",
       "      <td>Rottweiler</td>\n",
       "    </tr>\n",
       "  </tbody>\n",
       "</table>\n",
       "<p>300 rows × 3 columns</p>\n",
       "</div>"
      ],
      "text/plain": [
       "     Weight  Height            Class\n",
       "0      42.2      66        Dobermann\n",
       "1      43.0      70        Dobermann\n",
       "2      39.2      67        Dobermann\n",
       "3      49.9      63       Rottweiler\n",
       "4      39.5      65  German Shepherd\n",
       "..      ...     ...              ...\n",
       "295    43.3      67        Dobermann\n",
       "296    52.0      66       Rottweiler\n",
       "297    32.1      61  German Shepherd\n",
       "298    36.8      63  German Shepherd\n",
       "299    57.0      67       Rottweiler\n",
       "\n",
       "[300 rows x 3 columns]"
      ]
     },
     "execution_count": 3,
     "metadata": {},
     "output_type": "execute_result"
    }
   ],
   "source": [
    "df"
   ]
  },
  {
   "cell_type": "markdown",
   "metadata": {},
   "source": [
    "### Step 3: Make class IDs\n",
    "- Note: The model works with name classes - but often it is convenient to use numbers for classes\n",
    "- Create a dictionary to map class names to integers numbers.\n",
    "    - Hint: **class_ids = {'Dobermann': 0, 'German Shepherd': 1, 'Rottweiler': 2}**\n",
    "- Create a column with **Class ID**\n",
    "    - Hint: you can use **apply(lambda x: class_ids[x])**"
   ]
  },
  {
   "cell_type": "code",
   "execution_count": 5,
   "metadata": {},
   "outputs": [
    {
     "data": {
      "text/html": [
       "<div>\n",
       "<style scoped>\n",
       "    .dataframe tbody tr th:only-of-type {\n",
       "        vertical-align: middle;\n",
       "    }\n",
       "\n",
       "    .dataframe tbody tr th {\n",
       "        vertical-align: top;\n",
       "    }\n",
       "\n",
       "    .dataframe thead th {\n",
       "        text-align: right;\n",
       "    }\n",
       "</style>\n",
       "<table border=\"1\" class=\"dataframe\">\n",
       "  <thead>\n",
       "    <tr style=\"text-align: right;\">\n",
       "      <th></th>\n",
       "      <th>Weight</th>\n",
       "      <th>Height</th>\n",
       "      <th>Class</th>\n",
       "      <th>class_ID</th>\n",
       "    </tr>\n",
       "  </thead>\n",
       "  <tbody>\n",
       "    <tr>\n",
       "      <th>0</th>\n",
       "      <td>42.2</td>\n",
       "      <td>66</td>\n",
       "      <td>Dobermann</td>\n",
       "      <td>0</td>\n",
       "    </tr>\n",
       "    <tr>\n",
       "      <th>1</th>\n",
       "      <td>43.0</td>\n",
       "      <td>70</td>\n",
       "      <td>Dobermann</td>\n",
       "      <td>0</td>\n",
       "    </tr>\n",
       "    <tr>\n",
       "      <th>2</th>\n",
       "      <td>39.2</td>\n",
       "      <td>67</td>\n",
       "      <td>Dobermann</td>\n",
       "      <td>0</td>\n",
       "    </tr>\n",
       "    <tr>\n",
       "      <th>3</th>\n",
       "      <td>49.9</td>\n",
       "      <td>63</td>\n",
       "      <td>Rottweiler</td>\n",
       "      <td>2</td>\n",
       "    </tr>\n",
       "    <tr>\n",
       "      <th>4</th>\n",
       "      <td>39.5</td>\n",
       "      <td>65</td>\n",
       "      <td>German Shepherd</td>\n",
       "      <td>1</td>\n",
       "    </tr>\n",
       "    <tr>\n",
       "      <th>...</th>\n",
       "      <td>...</td>\n",
       "      <td>...</td>\n",
       "      <td>...</td>\n",
       "      <td>...</td>\n",
       "    </tr>\n",
       "    <tr>\n",
       "      <th>295</th>\n",
       "      <td>43.3</td>\n",
       "      <td>67</td>\n",
       "      <td>Dobermann</td>\n",
       "      <td>0</td>\n",
       "    </tr>\n",
       "    <tr>\n",
       "      <th>296</th>\n",
       "      <td>52.0</td>\n",
       "      <td>66</td>\n",
       "      <td>Rottweiler</td>\n",
       "      <td>2</td>\n",
       "    </tr>\n",
       "    <tr>\n",
       "      <th>297</th>\n",
       "      <td>32.1</td>\n",
       "      <td>61</td>\n",
       "      <td>German Shepherd</td>\n",
       "      <td>1</td>\n",
       "    </tr>\n",
       "    <tr>\n",
       "      <th>298</th>\n",
       "      <td>36.8</td>\n",
       "      <td>63</td>\n",
       "      <td>German Shepherd</td>\n",
       "      <td>1</td>\n",
       "    </tr>\n",
       "    <tr>\n",
       "      <th>299</th>\n",
       "      <td>57.0</td>\n",
       "      <td>67</td>\n",
       "      <td>Rottweiler</td>\n",
       "      <td>2</td>\n",
       "    </tr>\n",
       "  </tbody>\n",
       "</table>\n",
       "<p>300 rows × 4 columns</p>\n",
       "</div>"
      ],
      "text/plain": [
       "     Weight  Height            Class  class_ID\n",
       "0      42.2      66        Dobermann         0\n",
       "1      43.0      70        Dobermann         0\n",
       "2      39.2      67        Dobermann         0\n",
       "3      49.9      63       Rottweiler         2\n",
       "4      39.5      65  German Shepherd         1\n",
       "..      ...     ...              ...       ...\n",
       "295    43.3      67        Dobermann         0\n",
       "296    52.0      66       Rottweiler         2\n",
       "297    32.1      61  German Shepherd         1\n",
       "298    36.8      63  German Shepherd         1\n",
       "299    57.0      67       Rottweiler         2\n",
       "\n",
       "[300 rows x 4 columns]"
      ]
     },
     "execution_count": 5,
     "metadata": {},
     "output_type": "execute_result"
    }
   ],
   "source": [
    "class_ids={'Dobermann': 0, 'German Shepherd': 1, 'Rottweiler': 2}\n",
    "df['class_ID']= df.Class.apply(lambda x: class_ids[x])\n",
    "df"
   ]
  },
  {
   "cell_type": "code",
   "execution_count": 6,
   "metadata": {},
   "outputs": [
    {
     "data": {
      "text/html": [
       "<div>\n",
       "<style scoped>\n",
       "    .dataframe tbody tr th:only-of-type {\n",
       "        vertical-align: middle;\n",
       "    }\n",
       "\n",
       "    .dataframe tbody tr th {\n",
       "        vertical-align: top;\n",
       "    }\n",
       "\n",
       "    .dataframe thead th {\n",
       "        text-align: right;\n",
       "    }\n",
       "</style>\n",
       "<table border=\"1\" class=\"dataframe\">\n",
       "  <thead>\n",
       "    <tr style=\"text-align: right;\">\n",
       "      <th></th>\n",
       "      <th>Weight</th>\n",
       "      <th>Height</th>\n",
       "      <th>class_ID</th>\n",
       "    </tr>\n",
       "  </thead>\n",
       "  <tbody>\n",
       "    <tr>\n",
       "      <th>0</th>\n",
       "      <td>42.2</td>\n",
       "      <td>66</td>\n",
       "      <td>0</td>\n",
       "    </tr>\n",
       "    <tr>\n",
       "      <th>1</th>\n",
       "      <td>43.0</td>\n",
       "      <td>70</td>\n",
       "      <td>0</td>\n",
       "    </tr>\n",
       "    <tr>\n",
       "      <th>2</th>\n",
       "      <td>39.2</td>\n",
       "      <td>67</td>\n",
       "      <td>0</td>\n",
       "    </tr>\n",
       "    <tr>\n",
       "      <th>3</th>\n",
       "      <td>49.9</td>\n",
       "      <td>63</td>\n",
       "      <td>2</td>\n",
       "    </tr>\n",
       "    <tr>\n",
       "      <th>4</th>\n",
       "      <td>39.5</td>\n",
       "      <td>65</td>\n",
       "      <td>1</td>\n",
       "    </tr>\n",
       "    <tr>\n",
       "      <th>...</th>\n",
       "      <td>...</td>\n",
       "      <td>...</td>\n",
       "      <td>...</td>\n",
       "    </tr>\n",
       "    <tr>\n",
       "      <th>295</th>\n",
       "      <td>43.3</td>\n",
       "      <td>67</td>\n",
       "      <td>0</td>\n",
       "    </tr>\n",
       "    <tr>\n",
       "      <th>296</th>\n",
       "      <td>52.0</td>\n",
       "      <td>66</td>\n",
       "      <td>2</td>\n",
       "    </tr>\n",
       "    <tr>\n",
       "      <th>297</th>\n",
       "      <td>32.1</td>\n",
       "      <td>61</td>\n",
       "      <td>1</td>\n",
       "    </tr>\n",
       "    <tr>\n",
       "      <th>298</th>\n",
       "      <td>36.8</td>\n",
       "      <td>63</td>\n",
       "      <td>1</td>\n",
       "    </tr>\n",
       "    <tr>\n",
       "      <th>299</th>\n",
       "      <td>57.0</td>\n",
       "      <td>67</td>\n",
       "      <td>2</td>\n",
       "    </tr>\n",
       "  </tbody>\n",
       "</table>\n",
       "<p>300 rows × 3 columns</p>\n",
       "</div>"
      ],
      "text/plain": [
       "     Weight  Height  class_ID\n",
       "0      42.2      66         0\n",
       "1      43.0      70         0\n",
       "2      39.2      67         0\n",
       "3      49.9      63         2\n",
       "4      39.5      65         1\n",
       "..      ...     ...       ...\n",
       "295    43.3      67         0\n",
       "296    52.0      66         2\n",
       "297    32.1      61         1\n",
       "298    36.8      63         1\n",
       "299    57.0      67         2\n",
       "\n",
       "[300 rows x 3 columns]"
      ]
     },
     "execution_count": 6,
     "metadata": {},
     "output_type": "execute_result"
    }
   ],
   "source": [
    "df_=df.drop('Class',axis=1)\n",
    "df_"
   ]
  },
  {
   "cell_type": "markdown",
   "metadata": {},
   "source": [
    "### Step 4: Scatter plot the data\n",
    "- Create a figure and axes (**fig, ax**) from matplotlib.pyplot (**plt**)\n",
    "- Make a scatter plot using the **Class ID** column as color.\n",
    "    - Hint: [Docs](https://matplotlib.org/stable/api/_as_gen/matplotlib.axes.Axes.scatter.html) use **Weight** and **Height** for **x** and **y**, respectively."
   ]
  },
  {
   "cell_type": "code",
   "execution_count": 8,
   "metadata": {},
   "outputs": [
    {
     "data": {
      "text/plain": [
       "<matplotlib.collections.PathCollection at 0x22c3ff66400>"
      ]
     },
     "execution_count": 8,
     "metadata": {},
     "output_type": "execute_result"
    },
    {
     "data": {
      "image/png": "[encoded data removed]",
      "text/plain": [
       "<Figure size 432x288 with 1 Axes>"
      ]
     },
     "metadata": {
      "needs_background": "light"
     },
     "output_type": "display_data"
    }
   ],
   "source": [
    "plt.xlabel('Weight')\n",
    "plt.ylabel('Hight')\n",
    "plt.scatter(df_['Weight'],df_['Height'],c=df_['class_ID'])"
   ]
  },
  {
   "cell_type": "code",
   "execution_count": null,
   "metadata": {},
   "outputs": [],
   "source": []
  },
  {
   "cell_type": "markdown",
   "metadata": {},
   "source": [
    "### Step 5: Fit a model\n",
    "- Use the **SVC** model with **kernel='linear'**\n",
    "- Fit the model"
   ]
  },
  {
   "cell_type": "code",
   "execution_count": 9,
   "metadata": {},
   "outputs": [],
   "source": [
    "from sklearn.model_selection import train_test_split "
   ]
  },
  {
   "cell_type": "code",
   "execution_count": 10,
   "metadata": {},
   "outputs": [],
   "source": [
    "x=df_.drop('class_ID',axis=1)\n",
    "y=df_['class_ID']"
   ]
  },
  {
   "cell_type": "code",
   "execution_count": 11,
   "metadata": {},
   "outputs": [],
   "source": [
    "x_train,x_test,y_train,y_test = train_test_split(x,y,test_size=0.2)"
   ]
  },
  {
   "cell_type": "code",
   "execution_count": 12,
   "metadata": {},
   "outputs": [
    {
     "data": {
      "text/plain": [
       "0.9333333333333333"
      ]
     },
     "execution_count": 12,
     "metadata": {},
     "output_type": "execute_result"
    }
   ],
   "source": [
    "model_kernal=SVC(kernel='linear')\n",
    "model_kernal.fit(x_train,y_train)\n",
    "model_kernal.score(x_test,y_test)"
   ]
  },
  {
   "cell_type": "markdown",
   "metadata": {},
   "source": [
    "### Step 6: Map out the classification\n",
    "- Create a random selection of data\n",
    "    - HINT: use **np.random.rand(10000, 2)** and \"shift\" the data with ***(40, 20) + (25, 55)**\n",
    "- Predict the random selction of data\n",
    "- Create a plot with the data and predictions"
   ]
  },
  {
   "cell_type": "code",
   "execution_count": 25,
   "metadata": {},
   "outputs": [
    {
     "data": {
      "text/plain": [
       "array([2, 2, 1, 1, 0, 0, 1, 2, 1, 1, 2, 2, 0, 1, 0, 2, 2, 2, 1, 2, 2, 2,\n",
       "       0, 0, 1, 1, 1, 2, 1, 2, 2, 2, 1, 1, 0, 1, 2, 2, 0, 0, 2, 0, 2, 2,\n",
       "       1, 1, 0, 2, 2, 1, 1, 2, 2, 1, 2, 2, 1, 0, 2, 1, 2, 1, 2, 1, 0, 0,\n",
       "       1, 0, 0, 1, 1, 2, 2, 2, 1, 2, 1, 1, 2, 0, 2, 0, 2, 2, 2, 1, 2, 0,\n",
       "       1, 2, 2, 1, 1, 1, 2, 0, 1, 1, 2, 0, 2, 0, 1, 1, 2, 0, 2, 0, 1, 1,\n",
       "       1, 0, 0, 0, 2, 1, 2, 2, 2, 1, 1, 2, 2, 0, 2, 1, 0, 2, 2, 2, 1, 1,\n",
       "       2, 2, 0, 1, 2, 2, 2, 2, 2, 1, 2, 1, 1, 0, 1, 2, 0, 1, 2, 2, 0, 2,\n",
       "       1, 0, 1, 2, 0, 1, 2, 1, 2, 2, 0, 2, 2, 2, 2, 2, 2, 1, 1, 0, 1, 1,\n",
       "       1, 2, 2, 2, 0, 1, 0, 2, 0, 1, 0, 1, 2, 2, 1, 2, 2, 2, 1, 0, 2, 2,\n",
       "       1, 1, 0, 0, 0, 0, 0, 2, 1, 1, 1, 2, 1, 1, 1, 0, 0, 2, 0, 1, 1, 1,\n",
       "       2, 0, 2, 1, 2, 2, 1, 2, 1, 1, 2, 2, 0, 2, 2, 1, 1, 2, 2, 2, 0, 2,\n",
       "       1, 1, 0, 1, 1, 1, 2, 1, 2, 0, 2, 2, 0, 1, 1, 2, 2, 1, 0, 0, 0, 1,\n",
       "       2, 2, 2, 2, 1, 1, 2, 2, 0, 2, 2, 0, 1, 1, 2, 2, 1, 0, 2, 0, 1, 1,\n",
       "       2, 2, 2, 1, 1, 2, 1, 2, 1, 1, 1, 2, 2, 0], dtype=int64)"
      ]
     },
     "execution_count": 25,
     "metadata": {},
     "output_type": "execute_result"
    }
   ],
   "source": [
    "p=model_kernal.predict(np.random.rand(300, 2) *(40, 20) + (25, 55))\n",
    "p"
   ]
  },
  {
   "cell_type": "code",
   "execution_count": 26,
   "metadata": {},
   "outputs": [
    {
     "data": {
      "text/plain": [
       "<matplotlib.collections.PathCollection at 0x22c41f6a760>"
      ]
     },
     "execution_count": 26,
     "metadata": {},
     "output_type": "execute_result"
    },
    {
     "data": {
      "image/png": "[encoded data removed]",
      "text/plain": [
       "<Figure size 432x288 with 1 Axes>"
      ]
     },
     "metadata": {
      "needs_background": "light"
     },
     "output_type": "display_data"
    }
   ],
   "source": [
    "plt.scatter(df_['Weight'],df_['Height'],c=p)"
   ]
  },
  {
   "cell_type": "markdown",
   "metadata": {},
   "source": [
    "### Step 7 (Optional): Map with original data points\n",
    "- Make the same plot\n",
    "- Add the data points from the original dataset\n",
    "    - You might need to make a color mapping\n",
    "    - Say, **colors = ['b', 'r', 'g']** and use it on the **Class ID** column with **apply**."
   ]
  },
  {
   "cell_type": "code",
   "execution_count": null,
   "metadata": {},
   "outputs": [],
   "source": []
  },
  {
   "cell_type": "code",
   "execution_count": null,
   "metadata": {},
   "outputs": [],
   "source": []
  }
 ],
 "metadata": {
  "kernelspec": {
   "display_name": "Python 3",
   "language": "python",
   "name": "python3"
  },
  "language_info": {
   "codemirror_mode": {
    "name": "ipython",
    "version": 3
   },
   "file_extension": ".py",
   "mimetype": "text/x-python",
   "name": "python",
   "nbconvert_exporter": "python",
   "pygments_lexer": "ipython3",
   "version": "3.8.5"
  }
 },
 "nbformat": 4,
 "nbformat_minor": 5
}
