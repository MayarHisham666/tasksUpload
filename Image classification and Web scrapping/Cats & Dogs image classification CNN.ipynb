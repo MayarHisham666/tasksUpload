{
 "cells": [
  {
   "cell_type": "code",
   "execution_count": 21,
   "metadata": {},
   "outputs": [],
   "source": [
    "import pandas as pd\n",
    "import numpy as np\n",
    "import matplotlib.pyplot as plt\n",
    "import tensorflow as tf\n",
    "from tensorflow import keras\n",
    "from keras.preprocessing.image import load_img\n",
    "import os\n",
    "import wget\n",
    "import warnings\n",
    "warnings.filterwarnings('ignore')"
   ]
  },
  {
   "cell_type": "code",
   "execution_count": 22,
   "metadata": {},
   "outputs": [],
   "source": [
    "#Define data inputs and outputs"
   ]
  },
  {
   "cell_type": "code",
   "execution_count": 39,
   "metadata": {},
   "outputs": [],
   "source": [
    "input_path=[]\n",
    "Petlabel=[]\n",
    "for class_input in os.listdir('PetImages'):\n",
    "    for path in os.listdir('PetImages/'+class_input):\n",
    "        if class_input == 'Cats':\n",
    "            Petlabel.append(0)\n",
    "        else:\n",
    "            Petlabel.append(1)\n",
    "        input_path.append(os.path.join(\"PetImages\", class_input, path))\n",
    "        "
   ]
  },
  {
   "cell_type": "code",
   "execution_count": 40,
   "metadata": {},
   "outputs": [
    {
     "name": "stdout",
     "output_type": "stream",
     "text": [
      "PetImages\\Cats\\0.jpg 0\n"
     ]
    }
   ],
   "source": [
    "print(input_path[0],Petlabel[0])"
   ]
  },
  {
   "cell_type": "code",
   "execution_count": 41,
   "metadata": {},
   "outputs": [],
   "source": [
    "#Create dataframe"
   ]
  },
  {
   "cell_type": "code",
   "execution_count": 42,
   "metadata": {},
   "outputs": [
    {
     "data": {
      "text/html": [
       "<div>\n",
       "<style scoped>\n",
       "    .dataframe tbody tr th:only-of-type {\n",
       "        vertical-align: middle;\n",
       "    }\n",
       "\n",
       "    .dataframe tbody tr th {\n",
       "        vertical-align: top;\n",
       "    }\n",
       "\n",
       "    .dataframe thead th {\n",
       "        text-align: right;\n",
       "    }\n",
       "</style>\n",
       "<table border=\"1\" class=\"dataframe\">\n",
       "  <thead>\n",
       "    <tr style=\"text-align: right;\">\n",
       "      <th></th>\n",
       "      <th>Images</th>\n",
       "      <th>Petlabel</th>\n",
       "    </tr>\n",
       "  </thead>\n",
       "  <tbody>\n",
       "    <tr>\n",
       "      <th>0</th>\n",
       "      <td>PetImages\\Dogs\\70.jpg</td>\n",
       "      <td>1</td>\n",
       "    </tr>\n",
       "    <tr>\n",
       "      <th>1</th>\n",
       "      <td>PetImages\\Dogs\\94.jpg</td>\n",
       "      <td>1</td>\n",
       "    </tr>\n",
       "    <tr>\n",
       "      <th>2</th>\n",
       "      <td>PetImages\\Cats\\123.jpg</td>\n",
       "      <td>0</td>\n",
       "    </tr>\n",
       "    <tr>\n",
       "      <th>3</th>\n",
       "      <td>PetImages\\Dogs\\56.jpg</td>\n",
       "      <td>1</td>\n",
       "    </tr>\n",
       "    <tr>\n",
       "      <th>4</th>\n",
       "      <td>PetImages\\Dogs\\73.jpg</td>\n",
       "      <td>1</td>\n",
       "    </tr>\n",
       "    <tr>\n",
       "      <th>5</th>\n",
       "      <td>PetImages\\Cats\\22.jpg</td>\n",
       "      <td>0</td>\n",
       "    </tr>\n",
       "    <tr>\n",
       "      <th>6</th>\n",
       "      <td>PetImages\\Cats\\43.jpg</td>\n",
       "      <td>0</td>\n",
       "    </tr>\n",
       "    <tr>\n",
       "      <th>7</th>\n",
       "      <td>PetImages\\Dogs\\46.jpg</td>\n",
       "      <td>1</td>\n",
       "    </tr>\n",
       "    <tr>\n",
       "      <th>8</th>\n",
       "      <td>PetImages\\Dogs\\139.jpg</td>\n",
       "      <td>1</td>\n",
       "    </tr>\n",
       "    <tr>\n",
       "      <th>9</th>\n",
       "      <td>PetImages\\Dogs\\62.jpg</td>\n",
       "      <td>1</td>\n",
       "    </tr>\n",
       "    <tr>\n",
       "      <th>10</th>\n",
       "      <td>PetImages\\Dogs\\67.jpg</td>\n",
       "      <td>1</td>\n",
       "    </tr>\n",
       "    <tr>\n",
       "      <th>11</th>\n",
       "      <td>PetImages\\Dogs\\32.jpg</td>\n",
       "      <td>1</td>\n",
       "    </tr>\n",
       "    <tr>\n",
       "      <th>12</th>\n",
       "      <td>PetImages\\Cats\\108.jpg</td>\n",
       "      <td>0</td>\n",
       "    </tr>\n",
       "    <tr>\n",
       "      <th>13</th>\n",
       "      <td>PetImages\\Dogs\\68.jpg</td>\n",
       "      <td>1</td>\n",
       "    </tr>\n",
       "    <tr>\n",
       "      <th>14</th>\n",
       "      <td>PetImages\\Dogs\\116.jpg</td>\n",
       "      <td>1</td>\n",
       "    </tr>\n",
       "    <tr>\n",
       "      <th>15</th>\n",
       "      <td>PetImages\\Dogs\\59.jpg</td>\n",
       "      <td>1</td>\n",
       "    </tr>\n",
       "    <tr>\n",
       "      <th>16</th>\n",
       "      <td>PetImages\\Dogs\\113.jpg</td>\n",
       "      <td>1</td>\n",
       "    </tr>\n",
       "    <tr>\n",
       "      <th>17</th>\n",
       "      <td>PetImages\\Cats\\61.jpg</td>\n",
       "      <td>0</td>\n",
       "    </tr>\n",
       "    <tr>\n",
       "      <th>18</th>\n",
       "      <td>PetImages\\Dogs\\141.jpg</td>\n",
       "      <td>1</td>\n",
       "    </tr>\n",
       "    <tr>\n",
       "      <th>19</th>\n",
       "      <td>PetImages\\Dogs\\26.jpg</td>\n",
       "      <td>1</td>\n",
       "    </tr>\n",
       "  </tbody>\n",
       "</table>\n",
       "</div>"
      ],
      "text/plain": [
       "                    Images Petlabel\n",
       "0    PetImages\\Dogs\\70.jpg        1\n",
       "1    PetImages\\Dogs\\94.jpg        1\n",
       "2   PetImages\\Cats\\123.jpg        0\n",
       "3    PetImages\\Dogs\\56.jpg        1\n",
       "4    PetImages\\Dogs\\73.jpg        1\n",
       "5    PetImages\\Cats\\22.jpg        0\n",
       "6    PetImages\\Cats\\43.jpg        0\n",
       "7    PetImages\\Dogs\\46.jpg        1\n",
       "8   PetImages\\Dogs\\139.jpg        1\n",
       "9    PetImages\\Dogs\\62.jpg        1\n",
       "10   PetImages\\Dogs\\67.jpg        1\n",
       "11   PetImages\\Dogs\\32.jpg        1\n",
       "12  PetImages\\Cats\\108.jpg        0\n",
       "13   PetImages\\Dogs\\68.jpg        1\n",
       "14  PetImages\\Dogs\\116.jpg        1\n",
       "15   PetImages\\Dogs\\59.jpg        1\n",
       "16  PetImages\\Dogs\\113.jpg        1\n",
       "17   PetImages\\Cats\\61.jpg        0\n",
       "18  PetImages\\Dogs\\141.jpg        1\n",
       "19   PetImages\\Dogs\\26.jpg        1"
      ]
     },
     "execution_count": 42,
     "metadata": {},
     "output_type": "execute_result"
    }
   ],
   "source": [
    "df =pd.DataFrame()\n",
    "df['Images']= input_path\n",
    "df['Petlabel']=Petlabel\n",
    "df.Petlabel=df['Petlabel'].astype(str)\n",
    "# SHUFFLING DATA\n",
    "df = df.sample(frac=1).reset_index(drop=True)\n",
    "df.head(20)"
   ]
  },
  {
   "cell_type": "code",
   "execution_count": 43,
   "metadata": {},
   "outputs": [],
   "source": [
    "from keras.preprocessing.image import ImageDataGenerator"
   ]
  },
  {
   "cell_type": "code",
   "execution_count": 44,
   "metadata": {},
   "outputs": [],
   "source": [
    "from keras import Sequential\n",
    "from keras.layers import Conv2D,MaxPool2D,Flatten,Dense"
   ]
  },
  {
   "cell_type": "code",
   "execution_count": 45,
   "metadata": {},
   "outputs": [
    {
     "name": "stdout",
     "output_type": "stream",
     "text": [
      "Found 239 validated image filenames belonging to 2 classes.\n"
     ]
    }
   ],
   "source": [
    "# Define Normalization Prameters \n",
    "train_generator = ImageDataGenerator(\n",
    "            rescale = 1./255,\n",
    "            rotation_range = 40, # to avoid overfitting\n",
    "            shear_range = 0.2,\n",
    "            zoom_range = 0.2,\n",
    "            horizontal_flip = True,\n",
    "            fill_mode = 'nearest')\n",
    "\n",
    "train_iterator = train_generator.flow_from_dataframe(\n",
    "            df,\n",
    "            x_col='Images',\n",
    "            y_col='Petlabel',\n",
    "            target_size=(158,158),\n",
    "            batch_size=512,\n",
    "            class_mode='binary'\n",
    ")"
   ]
  },
  {
   "cell_type": "code",
   "execution_count": 46,
   "metadata": {},
   "outputs": [],
   "source": [
    "from sklearn.model_selection import train_test_split\n",
    "train,test = train_test_split(df,test_size=0.2,random_state=42)"
   ]
  },
  {
   "cell_type": "code",
   "execution_count": 47,
   "metadata": {},
   "outputs": [
    {
     "name": "stdout",
     "output_type": "stream",
     "text": [
      "Found 48 validated image filenames belonging to 2 classes.\n"
     ]
    }
   ],
   "source": [
    "val_generator = ImageDataGenerator(rescale = 1./255)\n",
    "val_iterator = val_generator.flow_from_dataframe(\n",
    "            test,\n",
    "            x_col='Images',\n",
    "            y_col='Petlabel',\n",
    "            target_size=(158,158),\n",
    "            batch_size=512,\n",
    "            class_mode='binary'\n",
    ")\n"
   ]
  },
  {
   "cell_type": "code",
   "execution_count": 48,
   "metadata": {},
   "outputs": [],
   "source": [
    "# Model Creation"
   ]
  },
  {
   "cell_type": "code",
   "execution_count": 49,
   "metadata": {},
   "outputs": [],
   "source": [
    "Model = Sequential([\n",
    "    Conv2D(16,(3,3),activation='relu',input_shape=(158,158,3)),\n",
    "    MaxPool2D((2,2)),\n",
    "    Conv2D(32,(3,3),activation='relu'),\n",
    "    MaxPool2D((2,2)),\n",
    "    Conv2D(64,(3,3),activation='relu'),\n",
    "    MaxPool2D((2,2)),\n",
    "    Flatten(),\n",
    "    Dense(512,activation='relu'),\n",
    "    Dense(1,activation= 'sigmoid')\n",
    "    \n",
    "])"
   ]
  },
  {
   "cell_type": "code",
   "execution_count": 50,
   "metadata": {},
   "outputs": [
    {
     "name": "stdout",
     "output_type": "stream",
     "text": [
      "Model: \"sequential_3\"\n",
      "_________________________________________________________________\n",
      "Layer (type)                 Output Shape              Param #   \n",
      "=================================================================\n",
      "conv2d_7 (Conv2D)            (None, 156, 156, 16)      448       \n",
      "_________________________________________________________________\n",
      "max_pooling2d_7 (MaxPooling2 (None, 78, 78, 16)        0         \n",
      "_________________________________________________________________\n",
      "conv2d_8 (Conv2D)            (None, 76, 76, 32)        4640      \n",
      "_________________________________________________________________\n",
      "max_pooling2d_8 (MaxPooling2 (None, 38, 38, 32)        0         \n",
      "_________________________________________________________________\n",
      "conv2d_9 (Conv2D)            (None, 36, 36, 64)        18496     \n",
      "_________________________________________________________________\n",
      "max_pooling2d_9 (MaxPooling2 (None, 18, 18, 64)        0         \n",
      "_________________________________________________________________\n",
      "flatten_3 (Flatten)          (None, 20736)             0         \n",
      "_________________________________________________________________\n",
      "dense_5 (Dense)              (None, 512)               10617344  \n",
      "_________________________________________________________________\n",
      "dense_6 (Dense)              (None, 1)                 513       \n",
      "=================================================================\n",
      "Total params: 10,641,441\n",
      "Trainable params: 10,641,441\n",
      "Non-trainable params: 0\n",
      "_________________________________________________________________\n"
     ]
    }
   ],
   "source": [
    "import tensorflow.keras.optimizers\n",
    "Model.compile(optimizer='adam',loss='binary_crossentropy',metrics=['accuracy'])\n",
    "Model.summary()"
   ]
  },
  {
   "cell_type": "code",
   "execution_count": 51,
   "metadata": {},
   "outputs": [],
   "source": [
    "# Model Train"
   ]
  },
  {
   "cell_type": "code",
   "execution_count": 52,
   "metadata": {},
   "outputs": [
    {
     "name": "stdout",
     "output_type": "stream",
     "text": [
      "Epoch 1/50\n",
      "1/1 [==============================] - 18s 18s/step - loss: 0.6912 - accuracy: 0.5230 - val_loss: 1.3905 - val_accuracy: 0.6042\n",
      "Epoch 2/50\n",
      "1/1 [==============================] - 16s 16s/step - loss: 1.5189 - accuracy: 0.5230 - val_loss: 1.0733 - val_accuracy: 0.3958\n",
      "Epoch 3/50\n",
      "1/1 [==============================] - 17s 17s/step - loss: 0.9128 - accuracy: 0.4770 - val_loss: 1.0743 - val_accuracy: 0.3958\n",
      "Epoch 4/50\n",
      "1/1 [==============================] - 18s 18s/step - loss: 0.9059 - accuracy: 0.4770 - val_loss: 0.8386 - val_accuracy: 0.3958\n",
      "Epoch 5/50\n",
      "1/1 [==============================] - 17s 17s/step - loss: 0.7646 - accuracy: 0.4770 - val_loss: 0.7206 - val_accuracy: 0.3958\n",
      "Epoch 6/50\n",
      "1/1 [==============================] - 17s 17s/step - loss: 0.7053 - accuracy: 0.4770 - val_loss: 0.6795 - val_accuracy: 0.6458\n",
      "Epoch 7/50\n",
      "1/1 [==============================] - 17s 17s/step - loss: 0.6886 - accuracy: 0.5941 - val_loss: 0.6600 - val_accuracy: 0.6042\n",
      "Epoch 8/50\n",
      "1/1 [==============================] - 17s 17s/step - loss: 0.6836 - accuracy: 0.5230 - val_loss: 0.6463 - val_accuracy: 0.6042\n",
      "Epoch 9/50\n",
      "1/1 [==============================] - 17s 17s/step - loss: 0.6775 - accuracy: 0.5230 - val_loss: 0.6403 - val_accuracy: 0.6042\n",
      "Epoch 10/50\n",
      "1/1 [==============================] - 17s 17s/step - loss: 0.6807 - accuracy: 0.5230 - val_loss: 0.6396 - val_accuracy: 0.6042\n",
      "Epoch 11/50\n",
      "1/1 [==============================] - 17s 17s/step - loss: 0.6799 - accuracy: 0.5230 - val_loss: 0.6364 - val_accuracy: 0.6042\n",
      "Epoch 12/50\n",
      "1/1 [==============================] - 17s 17s/step - loss: 0.6750 - accuracy: 0.5230 - val_loss: 0.6353 - val_accuracy: 0.6250\n",
      "Epoch 13/50\n",
      "1/1 [==============================] - 17s 17s/step - loss: 0.6685 - accuracy: 0.5230 - val_loss: 0.6398 - val_accuracy: 0.6250\n",
      "Epoch 14/50\n",
      "1/1 [==============================] - 17s 17s/step - loss: 0.6689 - accuracy: 0.5816 - val_loss: 0.6361 - val_accuracy: 0.5833\n",
      "Epoch 15/50\n",
      "1/1 [==============================] - 17s 17s/step - loss: 0.6643 - accuracy: 0.6109 - val_loss: 0.6249 - val_accuracy: 0.6042\n",
      "Epoch 16/50\n",
      "1/1 [==============================] - 17s 17s/step - loss: 0.6579 - accuracy: 0.5858 - val_loss: 0.6256 - val_accuracy: 0.5833\n",
      "Epoch 17/50\n",
      "1/1 [==============================] - 17s 17s/step - loss: 0.6526 - accuracy: 0.5649 - val_loss: 0.6186 - val_accuracy: 0.6250\n",
      "Epoch 18/50\n",
      "1/1 [==============================] - 16s 16s/step - loss: 0.6443 - accuracy: 0.6025 - val_loss: 0.6127 - val_accuracy: 0.6042\n",
      "Epoch 19/50\n",
      "1/1 [==============================] - 16s 16s/step - loss: 0.6387 - accuracy: 0.6736 - val_loss: 0.6165 - val_accuracy: 0.6250\n",
      "Epoch 20/50\n",
      "1/1 [==============================] - 16s 16s/step - loss: 0.6348 - accuracy: 0.6109 - val_loss: 0.6402 - val_accuracy: 0.6250\n",
      "Epoch 21/50\n",
      "1/1 [==============================] - 16s 16s/step - loss: 0.6351 - accuracy: 0.6151 - val_loss: 0.6071 - val_accuracy: 0.6042\n",
      "Epoch 22/50\n",
      "1/1 [==============================] - 16s 16s/step - loss: 0.6288 - accuracy: 0.6444 - val_loss: 0.6230 - val_accuracy: 0.6250\n",
      "Epoch 23/50\n",
      "1/1 [==============================] - 17s 17s/step - loss: 0.6230 - accuracy: 0.6360 - val_loss: 0.6444 - val_accuracy: 0.6250\n",
      "Epoch 24/50\n",
      "1/1 [==============================] - 20s 20s/step - loss: 0.6152 - accuracy: 0.6527 - val_loss: 0.6115 - val_accuracy: 0.5833\n",
      "Epoch 25/50\n",
      "1/1 [==============================] - 18s 18s/step - loss: 0.6120 - accuracy: 0.6778 - val_loss: 0.6108 - val_accuracy: 0.5833\n",
      "Epoch 26/50\n",
      "1/1 [==============================] - 18s 18s/step - loss: 0.6026 - accuracy: 0.6695 - val_loss: 0.6589 - val_accuracy: 0.6250\n",
      "Epoch 27/50\n",
      "1/1 [==============================] - 16s 16s/step - loss: 0.6003 - accuracy: 0.6402 - val_loss: 0.6082 - val_accuracy: 0.6458\n",
      "Epoch 28/50\n",
      "1/1 [==============================] - 17s 17s/step - loss: 0.5923 - accuracy: 0.6862 - val_loss: 0.6211 - val_accuracy: 0.6458\n",
      "Epoch 29/50\n",
      "1/1 [==============================] - 16s 16s/step - loss: 0.5944 - accuracy: 0.6611 - val_loss: 0.6380 - val_accuracy: 0.6458\n",
      "Epoch 30/50\n",
      "1/1 [==============================] - 16s 16s/step - loss: 0.5813 - accuracy: 0.6904 - val_loss: 0.6098 - val_accuracy: 0.6458\n",
      "Epoch 31/50\n",
      "1/1 [==============================] - 16s 16s/step - loss: 0.5784 - accuracy: 0.7029 - val_loss: 0.6367 - val_accuracy: 0.6667\n",
      "Epoch 32/50\n",
      "1/1 [==============================] - 17s 17s/step - loss: 0.5747 - accuracy: 0.6653 - val_loss: 0.5916 - val_accuracy: 0.7083\n",
      "Epoch 33/50\n",
      "1/1 [==============================] - 16s 16s/step - loss: 0.5762 - accuracy: 0.6987 - val_loss: 0.6242 - val_accuracy: 0.6667\n",
      "Epoch 34/50\n",
      "1/1 [==============================] - 16s 16s/step - loss: 0.5669 - accuracy: 0.6904 - val_loss: 0.6090 - val_accuracy: 0.6667\n",
      "Epoch 35/50\n",
      "1/1 [==============================] - 16s 16s/step - loss: 0.5690 - accuracy: 0.6987 - val_loss: 0.5945 - val_accuracy: 0.6875\n",
      "Epoch 36/50\n",
      "1/1 [==============================] - 17s 17s/step - loss: 0.5631 - accuracy: 0.7113 - val_loss: 0.5885 - val_accuracy: 0.7083\n",
      "Epoch 37/50\n",
      "1/1 [==============================] - 16s 16s/step - loss: 0.5473 - accuracy: 0.7322 - val_loss: 0.6151 - val_accuracy: 0.6667\n",
      "Epoch 38/50\n",
      "1/1 [==============================] - 17s 17s/step - loss: 0.5404 - accuracy: 0.7197 - val_loss: 0.5514 - val_accuracy: 0.6875\n",
      "Epoch 39/50\n",
      "1/1 [==============================] - 16s 16s/step - loss: 0.5506 - accuracy: 0.6987 - val_loss: 0.7089 - val_accuracy: 0.6250\n",
      "Epoch 40/50\n",
      "1/1 [==============================] - 17s 17s/step - loss: 0.5747 - accuracy: 0.6820 - val_loss: 0.5274 - val_accuracy: 0.6667\n",
      "Epoch 41/50\n",
      "1/1 [==============================] - 16s 16s/step - loss: 0.5677 - accuracy: 0.6862 - val_loss: 0.5433 - val_accuracy: 0.7083\n",
      "Epoch 42/50\n",
      "1/1 [==============================] - 16s 16s/step - loss: 0.5343 - accuracy: 0.7238 - val_loss: 0.7066 - val_accuracy: 0.5833\n",
      "Epoch 43/50\n",
      "1/1 [==============================] - 16s 16s/step - loss: 0.5652 - accuracy: 0.6946 - val_loss: 0.5734 - val_accuracy: 0.6875\n",
      "Epoch 44/50\n",
      "1/1 [==============================] - 17s 17s/step - loss: 0.5286 - accuracy: 0.7615 - val_loss: 0.5172 - val_accuracy: 0.7083\n",
      "Epoch 45/50\n",
      "1/1 [==============================] - 16s 16s/step - loss: 0.5375 - accuracy: 0.7238 - val_loss: 0.5406 - val_accuracy: 0.7083\n",
      "Epoch 46/50\n",
      "1/1 [==============================] - 16s 16s/step - loss: 0.5220 - accuracy: 0.7364 - val_loss: 0.6051 - val_accuracy: 0.6875\n",
      "Epoch 47/50\n",
      "1/1 [==============================] - 16s 16s/step - loss: 0.5148 - accuracy: 0.7113 - val_loss: 0.5772 - val_accuracy: 0.6875\n",
      "Epoch 48/50\n",
      "1/1 [==============================] - 17s 17s/step - loss: 0.5106 - accuracy: 0.7280 - val_loss: 0.5238 - val_accuracy: 0.7292\n",
      "Epoch 49/50\n",
      "1/1 [==============================] - 16s 16s/step - loss: 0.5084 - accuracy: 0.7448 - val_loss: 0.5362 - val_accuracy: 0.7292\n",
      "Epoch 50/50\n",
      "1/1 [==============================] - 17s 17s/step - loss: 0.5062 - accuracy: 0.7322 - val_loss: 0.6129 - val_accuracy: 0.6458\n"
     ]
    }
   ],
   "source": [
    "Model_train=Model.fit(train_iterator,epochs=50, validation_data=val_iterator)"
   ]
  },
  {
   "cell_type": "code",
   "execution_count": 53,
   "metadata": {},
   "outputs": [
    {
     "data": {
      "text/plain": [
       "<Figure size 432x288 with 0 Axes>"
      ]
     },
     "execution_count": 53,
     "metadata": {},
     "output_type": "execute_result"
    },
    {
     "data": {
      "image/png": "[encoded data removed]",
      "text/plain": [
       "<Figure size 432x288 with 1 Axes>"
      ]
     },
     "metadata": {
      "needs_background": "light"
     },
     "output_type": "display_data"
    },
    {
     "data": {
      "text/plain": [
       "<Figure size 432x288 with 0 Axes>"
      ]
     },
     "metadata": {},
     "output_type": "display_data"
    }
   ],
   "source": [
    "# evaluate model\n",
    "acc = Model_train.history['accuracy']\n",
    "val_acc = Model_train.history['val_accuracy']\n",
    "epochs= range(len(acc))\n",
    "plt.plot(epochs,acc,'b',label='Training accuracy')\n",
    "plt.plot(epochs,val_acc,'r',label='Validation accuracy')\n",
    "plt.title('Accuracy Graph')\n",
    "plt.legend()\n",
    "plt.figure()"
   ]
  },
  {
   "cell_type": "code",
   "execution_count": null,
   "metadata": {},
   "outputs": [],
   "source": []
  }
 ],
 "metadata": {
  "kernelspec": {
   "display_name": "Python 3",
   "language": "python",
   "name": "python3"
  },
  "language_info": {
   "codemirror_mode": {
    "name": "ipython",
    "version": 3
   },
   "file_extension": ".py",
   "mimetype": "text/x-python",
   "name": "python",
   "nbconvert_exporter": "python",
   "pygments_lexer": "ipython3",
   "version": "3.7.9"
  }
 },
 "nbformat": 4,
 "nbformat_minor": 4
}
