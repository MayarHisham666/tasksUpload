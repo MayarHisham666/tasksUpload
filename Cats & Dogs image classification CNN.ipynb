{
 "cells": [
  {
   "cell_type": "code",
   "execution_count": 53,
   "metadata": {},
   "outputs": [],
   "source": [
    "import pandas as pd\n",
    "import numpy as np\n",
    "import matplotlib.pyplot as plt\n",
    "import tensorflow as tf\n",
    "from tensorflow import keras\n",
    "from keras.preprocessing.image import load_img\n",
    "import os\n",
    "import wget\n",
    "import warnings"
   ]
  },
  {
   "cell_type": "code",
   "execution_count": 54,
   "metadata": {},
   "outputs": [],
   "source": [
    "#Define data inputs and outputs"
   ]
  },
  {
   "cell_type": "code",
   "execution_count": 55,
   "metadata": {},
   "outputs": [],
   "source": [
    "input_path=[]\n",
    "Petlabel=[]\n",
    "for class_input in os.listdir('PetImages'):\n",
    "    for path in os.listdir('PetImages/'+class_input):\n",
    "        if class_input == 'Cats':\n",
    "            Petlabel.append(0)\n",
    "        else:\n",
    "            Petlabel.append(1)\n",
    "        input_path.append(os.path.join(\"PetImages\", class_input, path))\n",
    "        "
   ]
  },
  {
   "cell_type": "code",
   "execution_count": 56,
   "metadata": {},
   "outputs": [
    {
     "name": "stdout",
     "output_type": "stream",
     "text": [
      "PetImages\\Cats\\0.jpg 0\n"
     ]
    }
   ],
   "source": [
    "print(input_path[0],Petlabel[0])"
   ]
  },
  {
   "cell_type": "code",
   "execution_count": 57,
   "metadata": {},
   "outputs": [],
   "source": [
    "#Create dataframe"
   ]
  },
  {
   "cell_type": "code",
   "execution_count": 80,
   "metadata": {},
   "outputs": [
    {
     "data": {
      "text/html": [
       "<div>\n",
       "<style scoped>\n",
       "    .dataframe tbody tr th:only-of-type {\n",
       "        vertical-align: middle;\n",
       "    }\n",
       "\n",
       "    .dataframe tbody tr th {\n",
       "        vertical-align: top;\n",
       "    }\n",
       "\n",
       "    .dataframe thead th {\n",
       "        text-align: right;\n",
       "    }\n",
       "</style>\n",
       "<table border=\"1\" class=\"dataframe\">\n",
       "  <thead>\n",
       "    <tr style=\"text-align: right;\">\n",
       "      <th></th>\n",
       "      <th>Images</th>\n",
       "      <th>Petlabel</th>\n",
       "    </tr>\n",
       "  </thead>\n",
       "  <tbody>\n",
       "    <tr>\n",
       "      <th>0</th>\n",
       "      <td>PetImages\\Cats\\7.jpg</td>\n",
       "      <td>0</td>\n",
       "    </tr>\n",
       "    <tr>\n",
       "      <th>1</th>\n",
       "      <td>PetImages\\Cats\\31.jpg</td>\n",
       "      <td>0</td>\n",
       "    </tr>\n",
       "    <tr>\n",
       "      <th>2</th>\n",
       "      <td>PetImages\\Cats\\63.jpg</td>\n",
       "      <td>0</td>\n",
       "    </tr>\n",
       "    <tr>\n",
       "      <th>3</th>\n",
       "      <td>PetImages\\Dogs\\33.jpg</td>\n",
       "      <td>1</td>\n",
       "    </tr>\n",
       "    <tr>\n",
       "      <th>4</th>\n",
       "      <td>PetImages\\Cats\\25.jpg</td>\n",
       "      <td>0</td>\n",
       "    </tr>\n",
       "    <tr>\n",
       "      <th>5</th>\n",
       "      <td>PetImages\\Cats\\13.jpg</td>\n",
       "      <td>0</td>\n",
       "    </tr>\n",
       "    <tr>\n",
       "      <th>6</th>\n",
       "      <td>PetImages\\Dogs\\1.jpg</td>\n",
       "      <td>1</td>\n",
       "    </tr>\n",
       "    <tr>\n",
       "      <th>7</th>\n",
       "      <td>PetImages\\Cats\\32.jpg</td>\n",
       "      <td>0</td>\n",
       "    </tr>\n",
       "    <tr>\n",
       "      <th>8</th>\n",
       "      <td>PetImages\\Cats\\35.jpg</td>\n",
       "      <td>0</td>\n",
       "    </tr>\n",
       "    <tr>\n",
       "      <th>9</th>\n",
       "      <td>PetImages\\Cats\\21.jpg</td>\n",
       "      <td>0</td>\n",
       "    </tr>\n",
       "    <tr>\n",
       "      <th>10</th>\n",
       "      <td>PetImages\\Dogs\\15.jpg</td>\n",
       "      <td>1</td>\n",
       "    </tr>\n",
       "    <tr>\n",
       "      <th>11</th>\n",
       "      <td>PetImages\\Dogs\\27.jpg</td>\n",
       "      <td>1</td>\n",
       "    </tr>\n",
       "    <tr>\n",
       "      <th>12</th>\n",
       "      <td>PetImages\\Cats\\48.jpg</td>\n",
       "      <td>0</td>\n",
       "    </tr>\n",
       "    <tr>\n",
       "      <th>13</th>\n",
       "      <td>PetImages\\Cats\\62.jpg</td>\n",
       "      <td>0</td>\n",
       "    </tr>\n",
       "    <tr>\n",
       "      <th>14</th>\n",
       "      <td>PetImages\\Dogs\\8.jpg</td>\n",
       "      <td>1</td>\n",
       "    </tr>\n",
       "    <tr>\n",
       "      <th>15</th>\n",
       "      <td>PetImages\\Cats\\52.jpg</td>\n",
       "      <td>0</td>\n",
       "    </tr>\n",
       "    <tr>\n",
       "      <th>16</th>\n",
       "      <td>PetImages\\Cats\\66.jpg</td>\n",
       "      <td>0</td>\n",
       "    </tr>\n",
       "    <tr>\n",
       "      <th>17</th>\n",
       "      <td>PetImages\\Cats\\33.jpg</td>\n",
       "      <td>0</td>\n",
       "    </tr>\n",
       "    <tr>\n",
       "      <th>18</th>\n",
       "      <td>PetImages\\Cats\\18.jpg</td>\n",
       "      <td>0</td>\n",
       "    </tr>\n",
       "    <tr>\n",
       "      <th>19</th>\n",
       "      <td>PetImages\\Cats\\19.jpg</td>\n",
       "      <td>0</td>\n",
       "    </tr>\n",
       "  </tbody>\n",
       "</table>\n",
       "</div>"
      ],
      "text/plain": [
       "                   Images Petlabel\n",
       "0    PetImages\\Cats\\7.jpg        0\n",
       "1   PetImages\\Cats\\31.jpg        0\n",
       "2   PetImages\\Cats\\63.jpg        0\n",
       "3   PetImages\\Dogs\\33.jpg        1\n",
       "4   PetImages\\Cats\\25.jpg        0\n",
       "5   PetImages\\Cats\\13.jpg        0\n",
       "6    PetImages\\Dogs\\1.jpg        1\n",
       "7   PetImages\\Cats\\32.jpg        0\n",
       "8   PetImages\\Cats\\35.jpg        0\n",
       "9   PetImages\\Cats\\21.jpg        0\n",
       "10  PetImages\\Dogs\\15.jpg        1\n",
       "11  PetImages\\Dogs\\27.jpg        1\n",
       "12  PetImages\\Cats\\48.jpg        0\n",
       "13  PetImages\\Cats\\62.jpg        0\n",
       "14   PetImages\\Dogs\\8.jpg        1\n",
       "15  PetImages\\Cats\\52.jpg        0\n",
       "16  PetImages\\Cats\\66.jpg        0\n",
       "17  PetImages\\Cats\\33.jpg        0\n",
       "18  PetImages\\Cats\\18.jpg        0\n",
       "19  PetImages\\Cats\\19.jpg        0"
      ]
     },
     "execution_count": 80,
     "metadata": {},
     "output_type": "execute_result"
    }
   ],
   "source": [
    "df =pd.DataFrame()\n",
    "df['Images']= input_path\n",
    "df['Petlabel']=Petlabel\n",
    "df.Petlabel=df['Petlabel'].astype(str)\n",
    "# SHUFFLING DATA\n",
    "df = df.sample(frac=1).reset_index(drop=True)\n",
    "df.head(20)"
   ]
  },
  {
   "cell_type": "code",
   "execution_count": 92,
   "metadata": {},
   "outputs": [],
   "source": [
    "from keras.preprocessing.image import ImageDataGenerator"
   ]
  },
  {
   "cell_type": "code",
   "execution_count": 93,
   "metadata": {},
   "outputs": [],
   "source": [
    "from keras import Sequential\n",
    "from keras.layers import Conv2D,MaxPool2D,Flatten,Dense"
   ]
  },
  {
   "cell_type": "code",
   "execution_count": 97,
   "metadata": {},
   "outputs": [
    {
     "name": "stdout",
     "output_type": "stream",
     "text": [
      "Found 103 validated image filenames belonging to 2 classes.\n"
     ]
    }
   ],
   "source": [
    "# Define Normalization Prameters \n",
    "train_generator = ImageDataGenerator(\n",
    "            rescale = 1./255,\n",
    "            rotation_range = 40, # to avoid overfitting\n",
    "            shear_range = 0.2,\n",
    "            zoom_range = 0.2,\n",
    "            horizontal_flip = True,\n",
    "            fill_mode = 'nearest')\n",
    "\n",
    "train_iterator = train_generator.flow_from_dataframe(\n",
    "            df,\n",
    "            x_col='Images',\n",
    "            y_col='Petlabel',\n",
    "            target_size=(158,158),\n",
    "            batch_size=512,\n",
    "            class_mode='binary'\n",
    ")"
   ]
  },
  {
   "cell_type": "code",
   "execution_count": 98,
   "metadata": {},
   "outputs": [],
   "source": [
    "from sklearn.model_selection import train_test_split\n",
    "train,test = train_test_split(df,test_size=0.2,random_state=42)"
   ]
  },
  {
   "cell_type": "code",
   "execution_count": 99,
   "metadata": {},
   "outputs": [
    {
     "name": "stdout",
     "output_type": "stream",
     "text": [
      "Found 21 validated image filenames belonging to 2 classes.\n"
     ]
    }
   ],
   "source": [
    "val_generator = ImageDataGenerator(rescale = 1./255)\n",
    "val_iterator = val_generator.flow_from_dataframe(\n",
    "            test,\n",
    "            x_col='Images',\n",
    "            y_col='Petlabel',\n",
    "            target_size=(158,158),\n",
    "            batch_size=512,\n",
    "            class_mode='binary'\n",
    ")\n"
   ]
  },
  {
   "cell_type": "code",
   "execution_count": 100,
   "metadata": {},
   "outputs": [],
   "source": [
    "# Model Creation"
   ]
  },
  {
   "cell_type": "code",
   "execution_count": 101,
   "metadata": {},
   "outputs": [],
   "source": [
    "Model = Sequential([\n",
    "    Conv2D(16,(3,3),activation='relu',input_shape=(158,158,3)),\n",
    "    MaxPool2D((2,2)),\n",
    "    Conv2D(32,(3,3),activation='relu'),\n",
    "    MaxPool2D((2,2)),\n",
    "    Conv2D(64,(3,3),activation='relu'),\n",
    "    MaxPool2D((2,2)),\n",
    "    Flatten(),\n",
    "    Dense(512,activation='relu'),\n",
    "    Dense(1,activation= 'sigmoid')\n",
    "    \n",
    "])"
   ]
  },
  {
   "cell_type": "code",
   "execution_count": 102,
   "metadata": {},
   "outputs": [
    {
     "name": "stdout",
     "output_type": "stream",
     "text": [
      "Model: \"sequential_6\"\n",
      "_________________________________________________________________\n",
      "Layer (type)                 Output Shape              Param #   \n",
      "=================================================================\n",
      "conv2d_16 (Conv2D)           (None, 156, 156, 16)      448       \n",
      "_________________________________________________________________\n",
      "max_pooling2d_16 (MaxPooling (None, 78, 78, 16)        0         \n",
      "_________________________________________________________________\n",
      "conv2d_17 (Conv2D)           (None, 76, 76, 32)        4640      \n",
      "_________________________________________________________________\n",
      "max_pooling2d_17 (MaxPooling (None, 38, 38, 32)        0         \n",
      "_________________________________________________________________\n",
      "conv2d_18 (Conv2D)           (None, 36, 36, 64)        18496     \n",
      "_________________________________________________________________\n",
      "max_pooling2d_18 (MaxPooling (None, 18, 18, 64)        0         \n",
      "_________________________________________________________________\n",
      "flatten_6 (Flatten)          (None, 20736)             0         \n",
      "_________________________________________________________________\n",
      "dense_11 (Dense)             (None, 512)               10617344  \n",
      "_________________________________________________________________\n",
      "dense_12 (Dense)             (None, 1)                 513       \n",
      "=================================================================\n",
      "Total params: 10,641,441\n",
      "Trainable params: 10,641,441\n",
      "Non-trainable params: 0\n",
      "_________________________________________________________________\n"
     ]
    }
   ],
   "source": [
    "import tensorflow.keras.optimizers\n",
    "Model.compile(optimizer='adam',loss='binary_crossentropy',metrics=['accuracy'])\n",
    "Model.summary()"
   ]
  },
  {
   "cell_type": "code",
   "execution_count": 103,
   "metadata": {},
   "outputs": [],
   "source": [
    "# Model Train"
   ]
  },
  {
   "cell_type": "code",
   "execution_count": 104,
   "metadata": {},
   "outputs": [
    {
     "name": "stdout",
     "output_type": "stream",
     "text": [
      "WARNING:tensorflow:From C:\\Users\\mayar\\anaconda3\\envs\\deeplearning\\lib\\site-packages\\keras\\backend\\tensorflow_backend.py:422: The name tf.global_variables is deprecated. Please use tf.compat.v1.global_variables instead.\n",
      "\n",
      "Epoch 1/50\n"
     ]
    },
    {
     "name": "stderr",
     "output_type": "stream",
     "text": [
      "C:\\Users\\mayar\\anaconda3\\envs\\deeplearning\\lib\\site-packages\\PIL\\Image.py:976: UserWarning: Palette images with Transparency expressed in bytes should be converted to RGBA images\n",
      "  \"Palette images with Transparency expressed in bytes should be \"\n"
     ]
    },
    {
     "name": "stdout",
     "output_type": "stream",
     "text": [
      "1/1 [==============================] - 19s 19s/step - loss: 0.6885 - accuracy: 0.6214 - val_loss: 5.6304 - val_accuracy: 0.6667\n",
      "Epoch 2/50\n",
      "1/1 [==============================] - 6s 6s/step - loss: 5.4537 - accuracy: 0.6602 - val_loss: 1.7182 - val_accuracy: 0.6667\n",
      "Epoch 3/50\n",
      "1/1 [==============================] - 8s 8s/step - loss: 1.6775 - accuracy: 0.6602 - val_loss: 1.1479 - val_accuracy: 0.3333\n",
      "Epoch 4/50\n",
      "1/1 [==============================] - 7s 7s/step - loss: 1.1386 - accuracy: 0.3398 - val_loss: 1.1305 - val_accuracy: 0.3333\n",
      "Epoch 5/50\n",
      "1/1 [==============================] - 8s 8s/step - loss: 1.1170 - accuracy: 0.3398 - val_loss: 0.8890 - val_accuracy: 0.3333\n",
      "Epoch 6/50\n",
      "1/1 [==============================] - 7s 7s/step - loss: 0.8829 - accuracy: 0.3398 - val_loss: 0.7248 - val_accuracy: 0.3333\n",
      "Epoch 7/50\n",
      "1/1 [==============================] - 7s 7s/step - loss: 0.7238 - accuracy: 0.3495 - val_loss: 0.6589 - val_accuracy: 0.7143\n",
      "Epoch 8/50\n",
      "1/1 [==============================] - 6s 6s/step - loss: 0.6596 - accuracy: 0.6602 - val_loss: 0.6422 - val_accuracy: 0.6667\n",
      "Epoch 9/50\n",
      "1/1 [==============================] - 7s 7s/step - loss: 0.6424 - accuracy: 0.6602 - val_loss: 0.6446 - val_accuracy: 0.6667\n",
      "Epoch 10/50\n",
      "1/1 [==============================] - 8s 8s/step - loss: 0.6447 - accuracy: 0.6602 - val_loss: 0.6481 - val_accuracy: 0.6667\n",
      "Epoch 11/50\n",
      "1/1 [==============================] - 8s 8s/step - loss: 0.6454 - accuracy: 0.6602 - val_loss: 0.6448 - val_accuracy: 0.6667\n",
      "Epoch 12/50\n",
      "1/1 [==============================] - 9s 9s/step - loss: 0.6408 - accuracy: 0.6602 - val_loss: 0.6389 - val_accuracy: 0.6667\n",
      "Epoch 13/50\n",
      "1/1 [==============================] - 6s 6s/step - loss: 0.6382 - accuracy: 0.6602 - val_loss: 0.6347 - val_accuracy: 0.6667\n",
      "Epoch 14/50\n",
      "1/1 [==============================] - 7s 7s/step - loss: 0.6327 - accuracy: 0.6602 - val_loss: 0.6316 - val_accuracy: 0.6667\n",
      "Epoch 15/50\n",
      "1/1 [==============================] - 7s 7s/step - loss: 0.6309 - accuracy: 0.6602 - val_loss: 0.6286 - val_accuracy: 0.6667\n",
      "Epoch 16/50\n",
      "1/1 [==============================] - 8s 8s/step - loss: 0.6252 - accuracy: 0.6602 - val_loss: 0.6228 - val_accuracy: 0.6667\n",
      "Epoch 17/50\n",
      "1/1 [==============================] - 8s 8s/step - loss: 0.6201 - accuracy: 0.6602 - val_loss: 0.6158 - val_accuracy: 0.6667\n",
      "Epoch 18/50\n",
      "1/1 [==============================] - 7s 7s/step - loss: 0.6148 - accuracy: 0.6602 - val_loss: 0.6111 - val_accuracy: 0.6667\n",
      "Epoch 19/50\n",
      "1/1 [==============================] - 7s 7s/step - loss: 0.6020 - accuracy: 0.6602 - val_loss: 0.6025 - val_accuracy: 0.6667\n",
      "Epoch 20/50\n",
      "1/1 [==============================] - 7s 7s/step - loss: 0.6028 - accuracy: 0.6602 - val_loss: 0.5926 - val_accuracy: 0.6667\n",
      "Epoch 21/50\n",
      "1/1 [==============================] - 7s 7s/step - loss: 0.5967 - accuracy: 0.6796 - val_loss: 0.5836 - val_accuracy: 0.6667\n",
      "Epoch 22/50\n",
      "1/1 [==============================] - 11s 11s/step - loss: 0.5822 - accuracy: 0.6699 - val_loss: 0.5761 - val_accuracy: 0.7143\n",
      "Epoch 23/50\n",
      "1/1 [==============================] - 7s 7s/step - loss: 0.5826 - accuracy: 0.6796 - val_loss: 0.5628 - val_accuracy: 0.8095\n",
      "Epoch 24/50\n",
      "1/1 [==============================] - 8s 8s/step - loss: 0.5865 - accuracy: 0.7282 - val_loss: 0.5930 - val_accuracy: 0.6667\n",
      "Epoch 25/50\n",
      "1/1 [==============================] - 8s 8s/step - loss: 0.5780 - accuracy: 0.6990 - val_loss: 0.5433 - val_accuracy: 0.7619\n",
      "Epoch 26/50\n",
      "1/1 [==============================] - 7s 7s/step - loss: 0.5375 - accuracy: 0.7282 - val_loss: 0.5394 - val_accuracy: 0.7619\n",
      "Epoch 27/50\n",
      "1/1 [==============================] - 8s 8s/step - loss: 0.5623 - accuracy: 0.7184 - val_loss: 0.5351 - val_accuracy: 0.7619\n",
      "Epoch 28/50\n",
      "1/1 [==============================] - 8s 8s/step - loss: 0.5301 - accuracy: 0.7087 - val_loss: 0.5560 - val_accuracy: 0.7143\n",
      "Epoch 29/50\n",
      "1/1 [==============================] - 9s 9s/step - loss: 0.5327 - accuracy: 0.7087 - val_loss: 0.5306 - val_accuracy: 0.8095\n",
      "Epoch 30/50\n",
      "1/1 [==============================] - 7s 7s/step - loss: 0.5382 - accuracy: 0.7670 - val_loss: 0.5204 - val_accuracy: 0.8095\n",
      "Epoch 31/50\n",
      "1/1 [==============================] - 7s 7s/step - loss: 0.5281 - accuracy: 0.7476 - val_loss: 0.5224 - val_accuracy: 0.7619\n",
      "Epoch 32/50\n",
      "1/1 [==============================] - 8s 8s/step - loss: 0.5119 - accuracy: 0.7379 - val_loss: 0.5372 - val_accuracy: 0.7619\n",
      "Epoch 33/50\n",
      "1/1 [==============================] - 8s 8s/step - loss: 0.5067 - accuracy: 0.7767 - val_loss: 0.5208 - val_accuracy: 0.8095\n",
      "Epoch 34/50\n",
      "1/1 [==============================] - 8s 8s/step - loss: 0.4814 - accuracy: 0.7961 - val_loss: 0.5258 - val_accuracy: 0.7619\n",
      "Epoch 35/50\n",
      "1/1 [==============================] - 8s 8s/step - loss: 0.5039 - accuracy: 0.7573 - val_loss: 0.5406 - val_accuracy: 0.7619\n",
      "Epoch 36/50\n",
      "1/1 [==============================] - 10s 10s/step - loss: 0.4974 - accuracy: 0.7573 - val_loss: 0.5126 - val_accuracy: 0.9048\n",
      "Epoch 37/50\n",
      "1/1 [==============================] - 8s 8s/step - loss: 0.4827 - accuracy: 0.7961 - val_loss: 0.5324 - val_accuracy: 0.7619\n",
      "Epoch 38/50\n",
      "1/1 [==============================] - 7s 7s/step - loss: 0.4907 - accuracy: 0.7184 - val_loss: 0.4763 - val_accuracy: 0.9048\n",
      "Epoch 39/50\n",
      "1/1 [==============================] - 8s 8s/step - loss: 0.4249 - accuracy: 0.8350 - val_loss: 0.4626 - val_accuracy: 0.9048\n",
      "Epoch 40/50\n",
      "1/1 [==============================] - 7s 7s/step - loss: 0.4472 - accuracy: 0.8058 - val_loss: 0.4996 - val_accuracy: 0.7619\n",
      "Epoch 41/50\n",
      "1/1 [==============================] - 8s 8s/step - loss: 0.4425 - accuracy: 0.7864 - val_loss: 0.4630 - val_accuracy: 0.9048\n",
      "Epoch 42/50\n",
      "1/1 [==============================] - 8s 8s/step - loss: 0.4332 - accuracy: 0.8058 - val_loss: 0.4495 - val_accuracy: 0.9048\n",
      "Epoch 43/50\n",
      "1/1 [==============================] - 7s 7s/step - loss: 0.4266 - accuracy: 0.7961 - val_loss: 0.4690 - val_accuracy: 0.8095\n",
      "Epoch 44/50\n",
      "1/1 [==============================] - 7s 7s/step - loss: 0.3835 - accuracy: 0.8058 - val_loss: 0.4365 - val_accuracy: 0.9048\n",
      "Epoch 45/50\n",
      "1/1 [==============================] - 8s 8s/step - loss: 0.3976 - accuracy: 0.8058 - val_loss: 0.4218 - val_accuracy: 0.8571\n",
      "Epoch 46/50\n",
      "1/1 [==============================] - 8s 8s/step - loss: 0.4226 - accuracy: 0.7864 - val_loss: 0.4398 - val_accuracy: 0.8571\n",
      "Epoch 47/50\n",
      "1/1 [==============================] - 8s 8s/step - loss: 0.4057 - accuracy: 0.8155 - val_loss: 0.3923 - val_accuracy: 0.9048\n",
      "Epoch 48/50\n",
      "1/1 [==============================] - 7s 7s/step - loss: 0.3898 - accuracy: 0.8252 - val_loss: 0.4949 - val_accuracy: 0.8095\n",
      "Epoch 49/50\n",
      "1/1 [==============================] - 7s 7s/step - loss: 0.4301 - accuracy: 0.7864 - val_loss: 0.3889 - val_accuracy: 0.8571\n",
      "Epoch 50/50\n",
      "1/1 [==============================] - 6s 6s/step - loss: 0.4807 - accuracy: 0.7379 - val_loss: 0.3930 - val_accuracy: 0.8571\n"
     ]
    }
   ],
   "source": [
    "Model_train=Model.fit(train_iterator,epochs=50, validation_data=val_iterator)"
   ]
  },
  {
   "cell_type": "code",
   "execution_count": 109,
   "metadata": {},
   "outputs": [
    {
     "data": {
      "text/plain": [
       "<Figure size 432x288 with 0 Axes>"
      ]
     },
     "execution_count": 109,
     "metadata": {},
     "output_type": "execute_result"
    },
    {
     "data": {
      "image/png": "[encoded data removed]",
      "text/plain": [
       "<Figure size 432x288 with 1 Axes>"
      ]
     },
     "metadata": {
      "needs_background": "light"
     },
     "output_type": "display_data"
    },
    {
     "data": {
      "text/plain": [
       "<Figure size 432x288 with 0 Axes>"
      ]
     },
     "metadata": {},
     "output_type": "display_data"
    }
   ],
   "source": [
    "# evaluate model\n",
    "acc = Model_train.history['accuracy']\n",
    "val_acc = Model_train.history['val_accuracy']\n",
    "epochs= range(len(acc))\n",
    "plt.plot(epochs,acc,'b',label='Training accuracy')\n",
    "plt.plot(epochs,val_acc,'r',label='Validation accuracy')\n",
    "plt.title('Accuracy Graph')\n",
    "plt.legend()\n",
    "plt.figure()"
   ]
  },
  {
   "cell_type": "code",
   "execution_count": null,
   "metadata": {},
   "outputs": [],
   "source": []
  }
 ],
 "metadata": {
  "kernelspec": {
   "display_name": "Python 3",
   "language": "python",
   "name": "python3"
  },
  "language_info": {
   "codemirror_mode": {
    "name": "ipython",
    "version": 3
   },
   "file_extension": ".py",
   "mimetype": "text/x-python",
   "name": "python",
   "nbconvert_exporter": "python",
   "pygments_lexer": "ipython3",
   "version": "3.7.9"
  }
 },
 "nbformat": 4,
 "nbformat_minor": 4
}
